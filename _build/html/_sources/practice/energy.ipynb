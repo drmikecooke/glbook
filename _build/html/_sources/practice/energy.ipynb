{
 "cells": [
  {
   "cell_type": "markdown",
   "id": "a5ab23e0-1ae5-4e9f-87a9-86bbeb96cb97",
   "metadata": {
    "editable": true,
    "slideshow": {
     "slide_type": ""
    },
    "tags": []
   },
   "source": [
    "# Energy calculations"
   ]
  },
  {
   "cell_type": "code",
   "execution_count": 2,
   "id": "cf195285-b310-494a-8e99-9097b817f570",
   "metadata": {
    "editable": false,
    "scrolled": true,
    "slideshow": {
     "slide_type": ""
    },
    "tags": [
     "thebe-init",
     "hide-cell"
    ]
   },
   "outputs": [
    {
     "name": "stdout",
     "output_type": "stream",
     "text": [
      "Looking in indexes: https://pypi.org/simple, https://www.piwheels.org/simple\n",
      "Requirement already satisfied: scipy in /home/mike/.local/lib/python3.9/site-packages (1.11.4)\n",
      "Requirement already satisfied: numpy<1.28.0,>=1.21.6 in /home/mike/.local/lib/python3.9/site-packages (from scipy) (1.26.2)\n",
      "Note: you may need to restart the kernel to use updated packages.\n"
     ]
    }
   ],
   "source": [
    "# make sure scipy is available in thebe: numpy and matplotlib available by default\n",
    "%pip install scipy"
   ]
  },
  {
   "attachments": {},
   "cell_type": "markdown",
   "id": "3d7baf73-b997-4540-b0cb-1e4af676f8b0",
   "metadata": {
    "editable": true,
    "slideshow": {
     "slide_type": ""
    },
    "tags": []
   },
   "source": [
    "## Module"
   ]
  },
  {
   "cell_type": "code",
   "execution_count": 25,
   "id": "6c5b977f-d107-4500-98a2-98caf978fc46",
   "metadata": {
    "editable": true,
    "slideshow": {
     "slide_type": ""
    },
    "tags": [
     "thebe-init",
     "hide-cell"
    ]
   },
   "outputs": [],
   "source": [
    "import numpy as np\n",
    "from scipy.integrate import solve_bvp,quad\n",
    "import matplotlib.pyplot as plt\n",
    "\n",
    "def nat(h): # natural BC with applied magnetizing field h\n",
    "  return 0,h\n",
    "\n",
    "def inf(): # 'infinity' BC with b=da=0 f=1 at 'infinity'\n",
    "  return 0,0\n",
    "\n",
    "def nrm(r,h): # normal metal BC with parameter r.\n",
    "  return (r,h)\n",
    "\n",
    "def BC(Y,r,h):\n",
    "  return [Y[1]-r*Y[0],Y[3]-h]\n",
    "\n",
    "def glsol(kappa,A,B):\n",
    "  a,ra,ha=A\n",
    "  b,rb,hb=B\n",
    "  nodes=5\n",
    "  def dY(x,Y): # Y=[f,df,a,b=da]\n",
    "    f,df,a,b = Y\n",
    "    return np.vstack((df, kappa*kappa*f*(f**2+a**2-1),b,a*f**2))\n",
    "  def bc(Ya, Yb):\n",
    "    return np.array(BC(Ya,ra,ha)+BC(Yb,rb,hb))\n",
    "  rng=[a, b]\n",
    "  x = np.linspace(*rng, nodes)\n",
    "  Y = np.zeros((4, x.size))\n",
    "  for k in range(x.size): # initialize f to 1\n",
    "    Y[0,k]=1\n",
    "  return solve_bvp(dY, bc, x, Y)\n",
    "\n",
    "def glplot(kappa,A,B,tex):\n",
    "  sol=glsol(kappa,A,B)\n",
    "  if sol.success:\n",
    "    x_plot = np.linspace(A[0],B[0], 100)\n",
    "    y_plot = sol.sol(x_plot)[0] # f\n",
    "    plt.plot(x_plot, y_plot,label=f\"$\\psi: {tex}$\")\n",
    "    y_plot = sol.sol(x_plot)[3] # b=da\n",
    "    plt.plot(x_plot, y_plot,label=f\"$b: {tex}$\")\n",
    "    return True\n",
    "  raise ValueError(sol.message)\n",
    "\n",
    "def glgibbs(kappa,h0,L):\n",
    "  A=(0,*nat(h0))\n",
    "  B=(L,*nat(h0))\n",
    "  sol=glsol(kappa,A,B)\n",
    "  def g(x):\n",
    "    f,df,a,da=sol.sol(x)\n",
    "    return -f**2+f**4/2+(df/kappa)**2+(a*f)**2+da**2-2*h0*da\n",
    "  return quad(g,0,L)"
   ]
  },
  {
   "cell_type": "code",
   "execution_count": 68,
   "id": "018a104a-84f4-4ce8-ae8c-d870e0d3b4f0",
   "metadata": {
    "editable": true,
    "slideshow": {
     "slide_type": ""
    },
    "tags": []
   },
   "outputs": [
    {
     "data": {
      "image/png": "[encoded data removed]",
      "text/plain": [
       "<Figure size 640x480 with 1 Axes>"
      ]
     },
     "metadata": {},
     "output_type": "display_data"
    }
   ],
   "source": [
    "h0=0.73\n",
    "kappa=.4\n",
    "plot=[(glgibbs(kappa,h0,L)[0]/L,-h0**2) for L in range(1,41)]\n",
    "L=list(range(1,41))\n",
    "plt.plot(L,plot,label=[\"SC\",\"N\"])\n",
    "plt.xlabel(\"L\")\n",
    "plt.title(f\"$\\kappa={kappa:.2f}, h_0={h0:.2f}$\")\n",
    "plt.legend()\n",
    "plt.show()"
   ]
  },
  {
   "cell_type": "markdown",
   "id": "8ce5faf9-fde5-4745-af5d-e4c13bd99c8c",
   "metadata": {
    "editable": true,
    "slideshow": {
     "slide_type": ""
    },
    "tags": []
   },
   "source": [
    "The approach to &lsquo;bulk&rsquo; behaviour is sllloow. This seems to enable superconducting behaviour to occur above the critical applied field for thin slabs."
   ]
  },
  {
   "cell_type": "code",
   "execution_count": null,
   "id": "528398ec-e702-4e95-bb4d-517e40e29b7a",
   "metadata": {
    "editable": true,
    "slideshow": {
     "slide_type": ""
    },
    "tags": []
   },
   "outputs": [],
   "source": []
  }
 ],
 "metadata": {
  "kernelspec": {
   "display_name": "Python 3 (ipykernel)",
   "language": "python",
   "name": "python3"
  },
  "language_info": {
   "codemirror_mode": {
    "name": "ipython",
    "version": 3
   },
   "file_extension": ".py",
   "mimetype": "text/x-python",
   "name": "python",
   "nbconvert_exporter": "python",
   "pygments_lexer": "ipython3",
   "version": "3.9.2"
  }
 },
 "nbformat": 4,
 "nbformat_minor": 5
}
