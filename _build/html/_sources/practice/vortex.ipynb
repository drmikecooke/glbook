{
 "cells": [
  {
   "cell_type": "markdown",
   "id": "83591aaa-4a69-43a0-b220-f188263ded83",
   "metadata": {},
   "source": [
    "# Vortex solutions\n",
    "\n",
    "```{include} live.md\n",
    "```"
   ]
  },
  {
   "cell_type": "code",
   "execution_count": 1,
   "id": "35259390-ce67-4f29-80fc-9ededafe8027",
   "metadata": {
    "editable": true,
    "slideshow": {
     "slide_type": ""
    },
    "tags": []
   },
   "outputs": [
    {
     "ename": "ImportError",
     "evalue": "cannot import name 'glrplot' from 'glcd' (/home/mike/Documents/github/glbook/practice/glcd.py)",
     "output_type": "error",
     "traceback": [
      "\u001b[0;31m---------------------------------------------------------------------------\u001b[0m",
      "\u001b[0;31mImportError\u001b[0m                               Traceback (most recent call last)",
      "Cell \u001b[0;32mIn[1], line 1\u001b[0m\n\u001b[0;32m----> 1\u001b[0m \u001b[38;5;28;01mfrom\u001b[39;00m \u001b[38;5;21;01mglcd\u001b[39;00m \u001b[38;5;28;01mimport\u001b[39;00m glrplot \n\u001b[1;32m      2\u001b[0m \u001b[38;5;28;01mimport\u001b[39;00m \u001b[38;5;21;01mmatplotlib\u001b[39;00m\u001b[38;5;21;01m.\u001b[39;00m\u001b[38;5;21;01mpyplot\u001b[39;00m \u001b[38;5;28;01mas\u001b[39;00m \u001b[38;5;21;01mplt\u001b[39;00m\n\u001b[1;32m      4\u001b[0m kappa\u001b[38;5;241m=\u001b[39m\u001b[38;5;241m6\u001b[39m\n",
      "\u001b[0;31mImportError\u001b[0m: cannot import name 'glrplot' from 'glcd' (/home/mike/Documents/github/glbook/practice/glcd.py)"
     ]
    }
   ],
   "source": [
    "from glcd import glrplot \n",
    "import matplotlib.pyplot as plt\n",
    "\n",
    "kappa=6\n",
    "n=-1 # -1 give positive b field\n",
    "a,b=0.001,3\n",
    "for kappa in range(1,10):\n",
    "  glrplot(kappa,n,a,b,f\"\\kappa={kappa}\")\n",
    "\n",
    "plt.subplot(1, 2, 1)\n",
    "plt.xlabel(\"r\")\n",
    "plt.title(f\"Vortex: f\")\n",
    "plt.legend()\n",
    "plt.subplot(1, 2, 2)\n",
    "plt.xlabel(\"r\")\n",
    "plt.title(f\"Vortex: b\")\n",
    "plt.legend()\n",
    "plt.show()"
   ]
  },
  {
   "cell_type": "markdown",
   "id": "ea96ee40-47f8-4898-a3b9-c00415af0512",
   "metadata": {
    "editable": true,
    "slideshow": {
     "slide_type": ""
    },
    "tags": []
   },
   "source": [
    "We have set the boundary conditions so that the differential system does not blow up as the r limits tend to zero and infinity. The magnetic flux should be constant. One needs to remember the area is cylindrically symmetric, and given by:\n",
    "\n",
    "$$\\Phi=2\\pi\\int b r dr$$\n",
    "\n",
    "Hopefully the different heights as $r \\rightarrow 0$ are damped by the $r$ factor in the integral."
   ]
  },
  {
   "cell_type": "code",
   "execution_count": null,
   "id": "8707c8b4-d976-4833-a138-feecabfced31",
   "metadata": {},
   "outputs": [],
   "source": []
  }
 ],
 "metadata": {
  "kernelspec": {
   "display_name": "Python 3 (ipykernel)",
   "language": "python",
   "name": "python3"
  },
  "language_info": {
   "codemirror_mode": {
    "name": "ipython",
    "version": 3
   },
   "file_extension": ".py",
   "mimetype": "text/x-python",
   "name": "python",
   "nbconvert_exporter": "python",
   "pygments_lexer": "ipython3",
   "version": "3.9.2"
  }
 },
 "nbformat": 4,
 "nbformat_minor": 5
}
