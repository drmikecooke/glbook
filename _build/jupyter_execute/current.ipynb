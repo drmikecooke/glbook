{
 "cells": [
  {
   "cell_type": "markdown",
   "id": "bad8d0a6",
   "metadata": {},
   "source": [
    "# Current"
   ]
  },
  {
   "cell_type": "markdown",
   "id": "0cd6c85c",
   "metadata": {},
   "source": [
    "The critical current section of {cite}`arovas` has some problems for me. Arovas seems to continue with the constant $\\Psi_0$ assumption, but includes a (constant?) gauge potential $\\mathbf A$ to give a free energy density:\n",
    "\n",
    "$$f=a|\\Psi_0|^2+\\frac12 b|\\Psi_0|^4+K\\left(\\frac{e^*}{\\hbar c}\\right)^2\\mathbf A^2|\\Psi_0|^2$$"
   ]
  },
  {
   "cell_type": "markdown",
   "id": "3a5ff0d2",
   "metadata": {},
   "source": [
    "Minimizing with respect to $|\\Psi_0|$ gives:\n",
    "\n",
    "$$|\\Psi_0|^2=-\\frac{a+K\\left(\\frac{e^*}{\\hbar c}\\right)^2\\mathbf A^2}{b}$$"
   ]
  },
  {
   "cell_type": "markdown",
   "id": "a17ca507",
   "metadata": {},
   "source": [
    "We are assuming that the material is superconducting, so $a<0$."
   ]
  },
  {
   "cell_type": "markdown",
   "id": "11e97585",
   "metadata": {},
   "source": [
    "What I don't understand at this point is that Arovas puts this into the current formula to get:\n",
    "\n",
    "$$\\mathbf j=\\left(\\frac{2Ke^{*2}}{\\hbar^2c }\\right)\\frac{a+K\\left(\\frac{e^*}{\\hbar c}\\right)^2\\mathbf A^2}{b}\\mathbf A$$"
   ]
  },
  {
   "cell_type": "markdown",
   "id": "93940d03",
   "metadata": {},
   "source": [
    "But isn&rsquo;t this current zero because the magnetic field is zero and hence $\\mathbf j=c\\mathbf\\nabla\\times\\mathbf B/4\\pi=0$? Hence the only consistent value for $\\mathbf A$ in this gauge is zero? The same result comes from minimizing $f$ with respect to $\\mathbf A$, does it not?"
   ]
  },
  {
   "cell_type": "markdown",
   "id": "7e12eb58",
   "metadata": {},
   "source": [
    "Instead Arovas &ldquo;extremizes&rdquo; the current with respect to the magnitude $A$. This occurs when:\n",
    "```{math}\n",
    ":label: A2\n",
    "A^2=-\\frac a{3K\\left(\\frac{e^*}{\\hbar c}\\right)^2}\n",
    "```"
   ]
  },
  {
   "cell_type": "markdown",
   "id": "9b973916",
   "metadata": {},
   "source": [
    "Arovas&rsquo; &ldquo;critical current&rdquo; is:\n",
    "\n",
    "$$j_c=\\frac{4}{3\\sqrt3}\\frac{e^{*}}{\\hbar}\\frac{K^{1/2}(-a)^{3/2}}b$$\n",
    "\n",
    "I disagree also with Arovas&rsquo; factor, which I think derives from an incorrect substitution of the final $A$ which is a square-root, but cancelling the squared term in equation {eq}`A2` as if it is not to be square-rooted. Some dimensional analysis would sort this out, but I am not sure it is worth the effort!"
   ]
  }
 ],
 "metadata": {
  "jupytext": {
   "formats": "md:myst",
   "text_representation": {
    "extension": ".md",
    "format_name": "myst",
    "format_version": 0.13,
    "jupytext_version": "1.16.0"
   }
  },
  "kernelspec": {
   "display_name": "Python 3 (ipykernel)",
   "language": "python",
   "name": "python3"
  },
  "language_info": {
   "codemirror_mode": {
    "name": "ipython",
    "version": 3
   },
   "file_extension": ".py",
   "mimetype": "text/x-python",
   "name": "python",
   "nbconvert_exporter": "python",
   "pygments_lexer": "ipython3",
   "version": "3.9.2"
  },
  "source_map": [
   13,
   17,
   23,
   29,
   33,
   39,
   43,
   51
  ]
 },
 "nbformat": 4,
 "nbformat_minor": 5
}