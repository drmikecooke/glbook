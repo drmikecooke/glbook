{
 "cells": [
  {
   "cell_type": "raw",
   "id": "0b77b8c0-2fd6-4a82-9fb1-d00e6b848fff",
   "metadata": {
    "editable": true,
    "raw_mimetype": "",
    "slideshow": {
     "slide_type": ""
    },
    "tags": []
   },
   "source": [
    "---\n",
    "jupytext:\n",
    "  formats: md:myst\n",
    "  text_representation:\n",
    "    extension: .md\n",
    "    format_name: myst\n",
    "kernelspec:\n",
    "  display_name: Python 3\n",
    "  language: python\n",
    "  name: python3\n",
    "---"
   ]
  },
  {
   "cell_type": "markdown",
   "id": "6625a4d2-4813-4bf1-9039-5558cb7dbc49",
   "metadata": {
    "editable": true,
    "slideshow": {
     "slide_type": ""
    },
    "tags": []
   },
   "source": [
    "# Basic code for 1D problems"
   ]
  },
  {
   "cell_type": "code",
   "execution_count": 1,
   "id": "4dbcc916-b179-4a1e-9a20-81c2ec65c6ee",
   "metadata": {
    "editable": false,
    "slideshow": {
     "slide_type": ""
    },
    "tags": [
     "thebe-init",
     "hide-cell"
    ]
   },
   "outputs": [
    {
     "name": "stdout",
     "output_type": "stream",
     "text": [
      "Looking in indexes: https://pypi.org/simple, https://www.piwheels.org/simple\r\n",
      "Requirement already satisfied: scipy in /home/mike/Projects/python/venvs/jbook/lib/python3.9/site-packages (1.11.4)\r\n"
     ]
    },
    {
     "name": "stdout",
     "output_type": "stream",
     "text": [
      "Requirement already satisfied: numpy<1.28.0,>=1.21.6 in /home/mike/Projects/python/venvs/jbook/lib/python3.9/site-packages (from scipy) (1.26.2)\r\n"
     ]
    },
    {
     "name": "stdout",
     "output_type": "stream",
     "text": [
      "Note: you may need to restart the kernel to use updated packages.\n"
     ]
    }
   ],
   "source": [
    "# make sure scipy is available in thebe: numpy and matplotlib available by default\n",
    "%pip install scipy"
   ]
  },
  {
   "cell_type": "code",
   "execution_count": 2,
   "id": "6f783bbf-5fd3-45f0-adbd-d1398afe567b",
   "metadata": {
    "editable": false,
    "slideshow": {
     "slide_type": ""
    },
    "tags": [
     "thebe-init",
     "hide-cell"
    ]
   },
   "outputs": [],
   "source": [
    "# Module to add Ginzburg-Landau plot\n",
    "\n",
    "import numpy as np\n",
    "from scipy.integrate import solve_bvp\n",
    "import matplotlib.pyplot as plt\n",
    "\n",
    "def glsol(kappa,A,B):\n",
    "  a,ba,fa=A\n",
    "  b,bb,fb=B\n",
    "  nodes=5\n",
    "  def dY(x,Y): # Y=[f,df,a,b=da]\n",
    "    f,df,a,b = Y\n",
    "    return np.vstack((df, kappa*kappa*f*(f**2+a**2-1),b,a*f**2))\n",
    "  def bc(Ya, Yb):\n",
    "    return np.array([Ya[0]-fa, Yb[0]-fb, Ya[3]-ba,Yb[3]-bb])\n",
    "  rng=[a, b]\n",
    "  x = np.linspace(*rng, nodes)\n",
    "  Y = np.zeros((4, x.size))\n",
    "  for k in range(x.size): # initialize f to 1\n",
    "    Y[0,k]=1\n",
    "  return solve_bvp(dY, bc, x, Y)\n",
    "\n",
    "def glplot(kappa,A,B,tex):\n",
    "  sol=glsol(kappa,A,B)\n",
    "  x_plot = np.linspace(A[0],B[0], 100)\n",
    "  y_plot = sol.sol(x_plot)[0] # f\n",
    "  plt.plot(x_plot, y_plot,label=f\"$f: {tex}$\")\n",
    "  y_plot = sol.sol(x_plot)[3] # b=da\n",
    "  plt.plot(x_plot, y_plot,label=f\"$b: {tex}$\")\n",
    "  return 0\n"
   ]
  },
  {
   "cell_type": "markdown",
   "id": "e011ddbf-ffd7-4dce-90ed-b21d3ccb348f",
   "metadata": {
    "editable": true,
    "slideshow": {
     "slide_type": ""
    },
    "tags": []
   },
   "source": [
    "## Basic usage"
   ]
  },
  {
   "cell_type": "code",
   "execution_count": 3,
   "id": "483bbed3-edf0-4a7e-84a0-181d964216cd",
   "metadata": {
    "editable": true,
    "slideshow": {
     "slide_type": ""
    },
    "tags": []
   },
   "outputs": [
    {
     "data": {
      "image/png": "[encoded data removed]",
      "text/plain": [
       "<Figure size 640x480 with 1 Axes>"
      ]
     },
     "metadata": {},
     "output_type": "display_data"
    }
   ],
   "source": [
    "# basic usage\n",
    "kappa=1\n",
    "b0=0.5\n",
    "a,ba,fa=0,b0,0\n",
    "b,bb,fb=8,0,1\n",
    "glplot(kappa,(a,ba,fa),(b,bb,fb),f\"b_0={b0}\")\n",
    "plt.xlabel(\"x\")\n",
    "plt.title(f\"$\\kappa={kappa}$\")\n",
    "plt.legend()\n",
    "plt.show()"
   ]
  },
  {
   "cell_type": "code",
   "execution_count": 4,
   "id": "143a4cfa-72c9-4fe0-8032-6b98baf9b1a8",
   "metadata": {
    "editable": true,
    "slideshow": {
     "slide_type": ""
    },
    "tags": []
   },
   "outputs": [
    {
     "data": {
      "text/plain": [
       "       message: The algorithm converged to the desired accuracy.\n",
       "       success: True\n",
       "        status: 0\n",
       "             x: [ 0.000e+00  2.500e-01 ...  6.000e+00  8.000e+00]\n",
       "           sol: <scipy.interpolate._interpolate.PPoly object at 0x7f60ad4c70>\n",
       "             p: None\n",
       "             y: [[ 3.436e-21  1.251e-01 ...  9.991e-01  1.000e+00]\n",
       "                 [ 5.000e-01  5.011e-01 ...  1.237e-03  2.037e-04]\n",
       "                 [-1.113e+00 -9.878e-01 ... -5.760e-03 -1.613e-03]\n",
       "                 [ 5.000e-01  4.987e-01 ...  5.526e-03  0.000e+00]]\n",
       "            yp: [[ 5.000e-01  5.011e-01 ...  1.237e-03  2.037e-04]\n",
       "                 [ 8.183e-22 -1.073e-03 ... -1.706e-03  2.601e-06]\n",
       "                 [ 5.000e-01  4.987e-01 ...  5.526e-03  0.000e+00]\n",
       "                 [-1.314e-41 -1.547e-02 ... -5.750e-03 -1.613e-03]]\n",
       " rms_residuals: [ 1.630e-04  1.649e-04  1.482e-04  1.015e-04  2.836e-04\n",
       "                  4.109e-04  2.611e-04  8.918e-05  5.159e-04  2.759e-04\n",
       "                  9.919e-05  1.810e-04]\n",
       "         niter: 4"
      ]
     },
     "execution_count": 4,
     "metadata": {},
     "output_type": "execute_result"
    }
   ],
   "source": [
    "glsol(kappa,(a,ba,fa),(b,bb,fb))"
   ]
  },
  {
   "cell_type": "code",
   "execution_count": null,
   "id": "565d4e0b-c84e-47dc-8fd0-d11166106b66",
   "metadata": {
    "editable": true,
    "slideshow": {
     "slide_type": ""
    },
    "tags": []
   },
   "outputs": [],
   "source": []
  }
 ],
 "metadata": {
  "kernelspec": {
   "display_name": "Python 3 (ipykernel)",
   "language": "python",
   "name": "python3"
  },
  "language_info": {
   "codemirror_mode": {
    "name": "ipython",
    "version": 3
   },
   "file_extension": ".py",
   "mimetype": "text/x-python",
   "name": "python",
   "nbconvert_exporter": "python",
   "pygments_lexer": "ipython3",
   "version": "3.9.2"
  }
 },
 "nbformat": 4,
 "nbformat_minor": 5
}