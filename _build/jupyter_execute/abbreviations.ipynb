{
 "cells": [
  {
   "cell_type": "markdown",
   "id": "a874991c",
   "metadata": {},
   "source": [
    "# Abbreviations  \n",
    "\n",
    "(abbr:G-L)=\n",
    "## G-L\n",
    ">Ginzburg-Landau\n",
    "\n",
    "(abbr:ET)=\n",
    "## ET\n",
    ">Extra-terrestrial\n",
    "\n",
    "{ref}`abbr:G-L`\n",
    "\n",
    "Another para\n",
    "\n",
    "{ref}`abbr:ET`"
   ]
  }
 ],
 "metadata": {
  "jupytext": {
   "formats": "md:myst",
   "text_representation": {
    "extension": ".md",
    "format_name": "myst",
    "format_version": 0.13,
    "jupytext_version": "1.16.0"
   }
  },
  "language_info": {
   "codemirror_mode": {
    "name": "ipython",
    "version": 3
   },
   "file_extension": ".py",
   "mimetype": "text/x-python",
   "name": "python",
   "nbconvert_exporter": "python",
   "pygments_lexer": "ipython3",
   "version": "3.9.2"
  },
  "source_map": [
   9
  ]
 },
 "nbformat": 4,
 "nbformat_minor": 5
}