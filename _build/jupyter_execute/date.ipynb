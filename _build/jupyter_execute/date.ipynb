{
 "cells": [
  {
   "cell_type": "code",
   "execution_count": 1,
   "id": "0729ccce-d1e4-4ea0-a2f0-17887dc7692c",
   "metadata": {},
   "outputs": [
    {
     "ename": "NameError",
     "evalue": "name 'new' is not defined",
     "output_type": "error",
     "traceback": [
      "\u001b[0;31m---------------------------------------------------------------------------\u001b[0m",
      "\u001b[0;31mNameError\u001b[0m                                 Traceback (most recent call last)",
      "Cell \u001b[0;32mIn[1], line 5\u001b[0m\n\u001b[1;32m      3\u001b[0m   content\u001b[38;5;241m=\u001b[39myaml\u001b[38;5;241m.\u001b[39mread()\n\u001b[1;32m      4\u001b[0m date\u001b[38;5;241m=\u001b[39mstrftime(\u001b[38;5;124m\"\u001b[39m\u001b[38;5;132;01m%d\u001b[39;00m\u001b[38;5;124m/\u001b[39m\u001b[38;5;124m%\u001b[39m\u001b[38;5;124mm/\u001b[39m\u001b[38;5;124m%\u001b[39m\u001b[38;5;124mY\u001b[39m\u001b[38;5;124m\"\u001b[39m,gmtime())\n\u001b[0;32m----> 5\u001b[0m newcontent\u001b[38;5;241m=\u001b[39mcontent[:\u001b[38;5;241m174\u001b[39m]\u001b[38;5;241m+\u001b[39m\u001b[43mnew\u001b[49m\u001b[38;5;241m+\u001b[39mcontent[\u001b[38;5;241m184\u001b[39m:]\n\u001b[1;32m      6\u001b[0m \u001b[38;5;28;01mfrom\u001b[39;00m \u001b[38;5;21;01mshutil\u001b[39;00m \u001b[38;5;28;01mimport\u001b[39;00m copyfile\n\u001b[1;32m      7\u001b[0m copyfile(\u001b[38;5;124m\"\u001b[39m\u001b[38;5;124m_config.yml\u001b[39m\u001b[38;5;124m\"\u001b[39m,\u001b[38;5;124mf\u001b[39m\u001b[38;5;124m\"\u001b[39m\u001b[38;5;124mretired/config\u001b[39m\u001b[38;5;132;01m{\u001b[39;00mstrftime(\u001b[38;5;124m'\u001b[39m\u001b[38;5;132;01m%d\u001b[39;00m\u001b[38;5;124m%\u001b[39m\u001b[38;5;124mm\u001b[39m\u001b[38;5;124m%\u001b[39m\u001b[38;5;124mY\u001b[39m\u001b[38;5;124m'\u001b[39m,gmtime())\u001b[38;5;132;01m}\u001b[39;00m\u001b[38;5;124m.yml\u001b[39m\u001b[38;5;124m\"\u001b[39m)\n",
      "\u001b[0;31mNameError\u001b[0m: name 'new' is not defined"
     ]
    }
   ],
   "source": [
    "from time import strftime,gmtime\n",
    "with open(\"_config.yml\",\"rt\") as yaml:\n",
    "  content=yaml.read()\n",
    "date=strftime(\"%d/%m/%Y\",gmtime())\n",
    "newcontent=content[:174]+new+content[184:]\n",
    "from shutil import copyfile\n",
    "copyfile(\"_config.yml\",f\"retired/config{strftime('%d%m%Y',gmtime())}.yml\")\n",
    "with open(\"_config.yml\",\"wt\") as yaml:\n",
    "  yaml.write(newcontent)"
   ]
  },
  {
   "cell_type": "code",
   "execution_count": 4,
   "id": "86c53c98-fc95-47e5-be01-c8a51ca3e373",
   "metadata": {},
   "outputs": [
    {
     "data": {
      "text/plain": [
       "163"
      ]
     },
     "execution_count": 4,
     "metadata": {},
     "output_type": "execute_result"
    }
   ],
   "source": [
    "content.index(\"copyright: \")"
   ]
  },
  {
   "cell_type": "code",
   "execution_count": 7,
   "id": "67ddd0c3-6ca4-4237-a09d-80b79690a40e",
   "metadata": {},
   "outputs": [
    {
     "data": {
      "text/plain": [
       "'copyright: 0'"
      ]
     },
     "execution_count": 7,
     "metadata": {},
     "output_type": "execute_result"
    }
   ],
   "source": [
    "content[163:175]"
   ]
  },
  {
   "cell_type": "code",
   "execution_count": 8,
   "id": "f1d6992d-1dcc-4727-980f-b6583fc8f6d2",
   "metadata": {},
   "outputs": [
    {
     "data": {
      "text/plain": [
       "'06/01/2024'"
      ]
     },
     "execution_count": 8,
     "metadata": {},
     "output_type": "execute_result"
    }
   ],
   "source": [
    "content[174:184]"
   ]
  },
  {
   "cell_type": "code",
   "execution_count": 14,
   "id": "ff3b5417-695e-4be6-8920-060e23f35774",
   "metadata": {},
   "outputs": [],
   "source": []
  },
  {
   "cell_type": "code",
   "execution_count": 20,
   "id": "51d71e8d-28a5-41aa-8fb1-07e9db1215ae",
   "metadata": {},
   "outputs": [
    {
     "data": {
      "text/plain": [
       "'06/01/2024'"
      ]
     },
     "execution_count": 20,
     "metadata": {},
     "output_type": "execute_result"
    }
   ],
   "source": []
  },
  {
   "cell_type": "code",
   "execution_count": 22,
   "id": "b24694f0-2569-4373-9b9c-7e078540aaea",
   "metadata": {},
   "outputs": [],
   "source": [
    "new=\"0123456789\"\n"
   ]
  },
  {
   "cell_type": "code",
   "execution_count": 23,
   "id": "681617e4-05df-4a06-a1f2-e8ba1707186f",
   "metadata": {},
   "outputs": [
    {
     "data": {
      "text/plain": [
       "'# Book settings\\n# Learn more at https://jupyterbook.org/customize/config.html\\n\\ntitle: Ginzburg-Landau boundary value problems\\nauthor: Mike Cooke\\nlogo: lattice.jpg\\ncopyright: 0123456789\\nexclude_patterns: [retired/*]\\n\\n# Force re-execution of notebooks on each build.\\n# See https://jupyterbook.org/content/execute.html\\nexecute:\\n  execute_notebooks: force\\n\\n# Define the name of the latex output file for PDF builds\\nlatex:\\n  latex_documents:\\n    targetname: book.tex\\n\\n# Add a bibtex file so that we can create citations\\nbibtex_bibfiles:\\n  - references.bib\\n\\n# Information about where the book exists on the web\\nrepository:\\n  url: https://github.com/executablebooks/jupyter-book  # Online location of your book\\n  path_to_book: docs  # Optional path to your book, relative to the repository root\\n  branch: master  # Which branch of the repository should be used when creating links (optional)\\n\\n# Add GitHub buttons to your book\\n# See https://jupyterbook.org/customize/config.html#add-a-link-to-your-repository\\nhtml:\\n  use_issues_button: true\\n  use_repository_button: true\\n  \\nlaunch_buttons:\\n#  binderhub_url: \"https://mybinder.org\"  # The URL for your BinderHub (e.g., https://mybinder.org)\\n  thebe                  : true\\n'"
      ]
     },
     "execution_count": 23,
     "metadata": {},
     "output_type": "execute_result"
    }
   ],
   "source": [
    "ncontent"
   ]
  },
  {
   "cell_type": "code",
   "execution_count": null,
   "id": "8e7ae4e5-66d5-48e1-87d1-6d341293405c",
   "metadata": {},
   "outputs": [],
   "source": []
  }
 ],
 "metadata": {
  "kernelspec": {
   "display_name": "Python 3 (ipykernel)",
   "language": "python",
   "name": "python3"
  },
  "language_info": {
   "codemirror_mode": {
    "name": "ipython",
    "version": 3
   },
   "file_extension": ".py",
   "mimetype": "text/x-python",
   "name": "python",
   "nbconvert_exporter": "python",
   "pygments_lexer": "ipython3",
   "version": "3.9.2"
  }
 },
 "nbformat": 4,
 "nbformat_minor": 5
}