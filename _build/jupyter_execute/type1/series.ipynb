{
 "cells": [
  {
   "cell_type": "markdown",
   "id": "bb0df54c-01d4-445d-b8dd-9931930b9710",
   "metadata": {},
   "source": [
    "# Series expansions\n",
    "\n",
    "We here present some useful series expansions, from using sympy. To run these cells, you will have to \"%pip install sympy\". See:\n",
    "\n",
    "\n",
    "```{include} ../practice/live.md\n",
    "```\n",
    "\n",
    "First {eq}`h0psi`:\n",
    "\n",
    "$$h_0^2=2\\frac{\\psi_0^2(1-\\psi_0^2)\\cosh^2(\\psi_0d/2)}{\\sinh(\\psi_0d)/\\psi_0d-1}$$"
   ]
  },
  {
   "cell_type": "code",
   "execution_count": 1,
   "id": "a228e5cf-541d-4f83-a170-6b7417e8bf96",
   "metadata": {},
   "outputs": [
    {
     "data": {
      "text/latex": [
       "$\\displaystyle 1 + \\psi^{2} \\left(\\frac{d^{2}}{5} - 1\\right) + \\psi^{4} \\cdot \\left(\\frac{27 d^{4}}{2800} - \\frac{d^{2}}{5}\\right) + O\\left(\\psi^{6}\\right)$"
      ],
      "text/plain": [
       "1 + \\psi**2*(d**2/5 - 1) + \\psi**4*(27*d**4/2800 - d**2/5) + O(\\psi**6)"
      ]
     },
     "execution_count": 1,
     "metadata": {},
     "output_type": "execute_result"
    }
   ],
   "source": [
    "from sympy import symbols,sinh,cosh,tanh,latex\n",
    "\n",
    "psi,d,h=symbols([\"\\psi\",\"d\",\"h\"])\n",
    "h2=2*psi**2*(1-psi**2)*cosh(psi*d/2)**2/(sinh(psi*d)/(psi*d)-1)\n",
    "\n",
    "(h2*d**2/12).series(psi)"
   ]
  },
  {
   "cell_type": "markdown",
   "id": "dae9a202-0fae-4774-868d-02dd7e643604",
   "metadata": {},
   "source": [
    "For the assumption made in [Type I perturbation theory/Magnetization](mag), we see that $d^2\\ll5$ is a requirement. As $d^2\\rightarrow5$ we need suitable corrections.\n",
    "\n",
    "Since $h_0=0$ when $\\psi_0=1$, it is perhaps useful to look at the series of $h_0^2/(1-\\psi_0^2)$:"
   ]
  },
  {
   "cell_type": "code",
   "execution_count": 2,
   "id": "6cf2d224-07d9-4f9b-8794-b8289b24c0b3",
   "metadata": {},
   "outputs": [
    {
     "data": {
      "text/latex": [
       "$\\displaystyle 12 + \\frac{12 \\psi^{2} d^{2}}{5} + \\frac{81 \\psi^{4} d^{4}}{700} + O\\left(\\psi^{6}\\right)$"
      ],
      "text/plain": [
       "12 + 12*\\psi**2*d**2/5 + 81*\\psi**4*d**4/700 + O(\\psi**6)"
      ]
     },
     "execution_count": 2,
     "metadata": {},
     "output_type": "execute_result"
    }
   ],
   "source": [
    "f=2*(psi*d)**2*cosh(psi*d/2)**2/(sinh(psi*d)/(psi*d)-1)\n",
    "f.series(psi)"
   ]
  },
  {
   "cell_type": "markdown",
   "id": "f820345a-e15e-4557-aeaf-863148e7507f",
   "metadata": {},
   "source": [
    "Hence:\n",
    "\n",
    "$$h_0^2\\approx\\frac{12}{d^2}(1-\\psi_0^2)(1+(\\psi_0d)^2/5)$$"
   ]
  },
  {
   "cell_type": "code",
   "execution_count": 3,
   "id": "90dda70e-3158-498b-acb6-e68e80cf12ac",
   "metadata": {},
   "outputs": [
    {
     "data": {
      "text/latex": [
       "$\\displaystyle \\psi^{4} \\left(\\frac{d^{2}}{10} - \\frac{1}{2}\\right) + O\\left(\\psi^{6}\\right)$"
      ],
      "text/plain": [
       "\\psi**4*(d**2/10 - 1/2) + O(\\psi**6)"
      ]
     },
     "execution_count": 3,
     "metadata": {},
     "output_type": "execute_result"
    }
   ],
   "source": [
    "g=-psi**2+psi**4/2+h2*(1-tanh(psi*d/2)/(psi*d/2))\n",
    "(g).series(psi)"
   ]
  },
  {
   "cell_type": "code",
   "execution_count": null,
   "id": "a136093e-2ee4-4b27-ac04-57157b069dba",
   "metadata": {},
   "outputs": [],
   "source": []
  }
 ],
 "metadata": {
  "kernelspec": {
   "display_name": "Python 3 (ipykernel)",
   "language": "python",
   "name": "python3"
  },
  "language_info": {
   "codemirror_mode": {
    "name": "ipython",
    "version": 3
   },
   "file_extension": ".py",
   "mimetype": "text/x-python",
   "name": "python",
   "nbconvert_exporter": "python",
   "pygments_lexer": "ipython3",
   "version": "3.9.2"
  }
 },
 "nbformat": 4,
 "nbformat_minor": 5
}