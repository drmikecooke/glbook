{
 "cells": [
  {
   "cell_type": "markdown",
   "id": "45efbd22",
   "metadata": {},
   "source": [
    "# Gibbs free energy\n",
    "\n",
    "## Critical applied magnetic field\n",
    "\n",
    "There is no possibility of coexistence of a magnetic field with a constant non-zero order parameter &mdash; the two fields have to interact and come to a non-constant compromise over a distance of order $\\lambda_L$. The (free) energy density of a constant magnetic field is $\\mathbf B^2/8\\pi$.\n",
    "\n",
    "Maxwell&rsquo;s equations in matter are traditionally posed in terms of applied fields $\\mathbf{H,D}$, and local fields, $\\mathbf{B,E}$, that are the response to the applied fields. Concentrating on the magnetic behaviour, the differential of the free energy density $f$ is composed as:\n",
    "\n",
    "$$df=-sdT+\\frac1{4\\pi}\\mathbf H\\cdot d\\mathbf B$$\n",
    "\n",
    "We note this is posed in terms of differentials of a relatively easy factor to control and change (temperature, $T$) and one we can&rsquo;t (local magnetic field, $\\mathbf B$).\n",
    "\n",
    "To make life easier, we Legendre transform to the Gibbs free energy density: $g=f-\\mathbf H\\cdot \\mathbf B/4\\pi$:\n",
    "\n",
    "$$dg=-sdT-\\frac1{4\\pi}\\mathbf B\\cdot d\\mathbf H$$\n",
    "\n",
    "The relation between $\\mathbf B$ and $\\mathbf H$ is $\\mathbf B=\\mathbf H+4\\pi\\mathbf M$, where $\\mathbf M$ is the magnetisation density. In a superconductor, the Meissner effect gives $\\mathbf B=0$, and $\\mathbf H=-4\\pi\\mathbf M$, perfect diamagnetism. In the normal metal state without anti-/ferro-magnetism ($\\mathbf M\\approx0$), $\\mathbf B\\approx\\mathbf H$.\n",
    "\n",
    "The Gibbs free energy density for the superconducting state is $g_s=-a^2/2b$, since integrating $-\\mathbf B\\cdot d\\mathbf H/4\\pi$  up to $\\mathbf H$ with $\\mathbf B=0$ gives zero.\n",
    "\n",
    "The normal metal Gibbs density has zero contribution from the $\\Psi$ order parameter, but integrating $-\\mathbf B\\cdot d\\mathbf H/4\\pi$ with $\\mathbf B=\\mathbf H$ gives $g_n=-\\mathbf H^2/8\\pi$.\n",
    "\n",
    "```{note}\n",
    "Isn&rsquo;t another way to get this, assuming $\\Psi=0$: the G-L free energy $f_n=\\mathbf B^2/8\\pi=\\mathbf H^2/8\\pi$ so $g_n=f_n-\\mathbf H\\cdot\\mathbf B/4\\pi=-\\mathbf H^2/8\\pi$?\n",
    "```\n",
    "\n",
    "Magnetic materials favour states with the lowest Gibbs energy density. The critical field is $H_c=\\sqrt{8\\pi a^2/2b}$, where $g_n=g_s$. Below this field the superconducting state is favoured, above it the normal state.\n",
    "\n",
    "```{note}\n",
    "I note some confusion in myself about these canonical calculations: while the applied field magnitude $H$ is below $H_c$, the $dH$ integration to my mind has $B=0$, since the material is in the superconducting state. But this is not taken account of in the &ldquo;normal&rdquo; calculation above. Is it because these are only notional calculations? Will studying the G-L system help overcome this confusion? Is there some sort of hysteresis? Is there a transition region? Also the free energy is stripped down to just cover magnetic properties &mdash; there is presumably things going on that change with temperature: vibrations and so on. The $a$ and $b$ parameters are also temperature dependent, of course.\n",
    "```\n",
    "\n",
    "\n",
    "Since it is commonly referred to in Arovas (in various forms) we have:\n",
    "\n",
    "$$g_s-g_n=-a^2/2b+\\mathbf H^2/8\\pi$$\n",
    "\n",
    "Once the diffence becomes positive, the phase chooses the normal metal state as having lower Gibbs free energy."
   ]
  },
  {
   "cell_type": "code",
   "execution_count": null,
   "id": "4cf21615",
   "metadata": {},
   "outputs": [],
   "source": [
    "import matplotlib.pyplot as plt\n",
    "import numpy as np\n",
    "\n",
    "a2_b=2\n",
    "H_c=(8*np.pi*a2_b)**(1/2)\n",
    "H=np.linspace(0,2*H_c,40)\n",
    "Dg_sn=-a2_b+H**2/(8*np.pi)\n",
    "fig,ax=plt.subplots()\n",
    "ax.plot(H,Dg_sn)\n",
    "ax.plot()\n",
    "plt.title(f\"$H_c={H_c:.2f}$\")\n",
    "ymin, ymax = ax.get_ylim()\n",
    "ax.vlines(H_c,ymin,0)\n",
    "xmin, xmax = ax.get_xlim()\n",
    "ax.hlines(0,xmin,H_c)\n",
    "ax.set_ylim(ymin, ymax)\n",
    "ax.set_xlim(xmin, xmax)\n",
    "plt.xlabel(\"H\")\n",
    "plt.ylabel(\"$g_s-g_n$\")\n",
    "plt.show()"
   ]
  },
  {
   "cell_type": "code",
   "execution_count": null,
   "id": "2d7c19fc",
   "metadata": {},
   "outputs": [],
   "source": []
  }
 ],
 "metadata": {
  "jupytext": {
   "formats": "md:myst,ipynb"
  },
  "kernelspec": {
   "display_name": "Python 3 (ipykernel)",
   "language": "python",
   "name": "python3"
  },
  "language_info": {
   "codemirror_mode": {
    "name": "ipython",
    "version": 3
   },
   "file_extension": ".py",
   "mimetype": "text/x-python",
   "name": "python",
   "nbconvert_exporter": "python",
   "pygments_lexer": "ipython3",
   "version": "3.9.2"
  }
 },
 "nbformat": 4,
 "nbformat_minor": 5
}
